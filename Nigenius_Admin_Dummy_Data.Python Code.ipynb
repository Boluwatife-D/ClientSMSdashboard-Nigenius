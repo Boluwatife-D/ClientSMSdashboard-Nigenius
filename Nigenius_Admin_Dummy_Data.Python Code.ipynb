{
  "cells": [
    {
      "cell_type": "markdown",
      "metadata": {
        "id": "kDn_lVxg3Z2G"
      },
      "source": [
        "# Importing a library that is not in Colaboratory\n",
        "\n",
        "To import a library that's not in Colaboratory by default, you can use `!pip install` or `!apt-get install`."
      ]
    },
    {
      "cell_type": "code",
      "execution_count": null,
      "metadata": {
        "colab": {
          "base_uri": "https://localhost:8080/"
        },
        "id": "GQ18Kd5F3uKe",
        "outputId": "3710e675-f33d-4961-ae32-25c37fb720fc"
      },
      "outputs": [
        {
          "output_type": "stream",
          "name": "stdout",
          "text": [
            "Looking in indexes: https://pypi.org/simple, https://us-python.pkg.dev/colab-wheels/public/simple/\n",
            "Requirement already satisfied: matplotlib-venn in /usr/local/lib/python3.8/dist-packages (0.11.9)\n",
            "Requirement already satisfied: numpy in /usr/local/lib/python3.8/dist-packages (from matplotlib-venn) (1.22.4)\n",
            "Requirement already satisfied: matplotlib in /usr/local/lib/python3.8/dist-packages (from matplotlib-venn) (3.5.3)\n",
            "Requirement already satisfied: scipy in /usr/local/lib/python3.8/dist-packages (from matplotlib-venn) (1.10.1)\n",
            "Requirement already satisfied: kiwisolver>=1.0.1 in /usr/local/lib/python3.8/dist-packages (from matplotlib->matplotlib-venn) (1.4.4)\n",
            "Requirement already satisfied: python-dateutil>=2.7 in /usr/local/lib/python3.8/dist-packages (from matplotlib->matplotlib-venn) (2.8.2)\n",
            "Requirement already satisfied: packaging>=20.0 in /usr/local/lib/python3.8/dist-packages (from matplotlib->matplotlib-venn) (23.0)\n",
            "Requirement already satisfied: cycler>=0.10 in /usr/local/lib/python3.8/dist-packages (from matplotlib->matplotlib-venn) (0.11.0)\n",
            "Requirement already satisfied: fonttools>=4.22.0 in /usr/local/lib/python3.8/dist-packages (from matplotlib->matplotlib-venn) (4.38.0)\n",
            "Requirement already satisfied: pillow>=6.2.0 in /usr/local/lib/python3.8/dist-packages (from matplotlib->matplotlib-venn) (8.4.0)\n",
            "Requirement already satisfied: pyparsing>=2.2.1 in /usr/local/lib/python3.8/dist-packages (from matplotlib->matplotlib-venn) (3.0.9)\n",
            "Requirement already satisfied: six>=1.5 in /usr/local/lib/python3.8/dist-packages (from python-dateutil>=2.7->matplotlib->matplotlib-venn) (1.15.0)\n"
          ]
        }
      ],
      "source": [
        "!pip install matplotlib-venn"
      ]
    },
    {
      "cell_type": "code",
      "execution_count": null,
      "metadata": {
        "colab": {
          "base_uri": "https://localhost:8080/"
        },
        "id": "__3eqm3q3sr-",
        "outputId": "98b7fd71-0903-456d-81a6-df31d5010cd7"
      },
      "outputs": [
        {
          "output_type": "stream",
          "name": "stdout",
          "text": [
            "E: Package 'libfluidsynth1' has no installation candidate\n"
          ]
        }
      ],
      "source": [
        "!apt-get -qq install -y libfluidsynth1"
      ]
    },
    {
      "cell_type": "markdown",
      "metadata": {
        "id": "apoRbfWsRZ7S"
      },
      "source": [
        "# Install 7zip reader [libarchive](https://pypi.python.org/pypi/libarchive) "
      ]
    },
    {
      "cell_type": "code",
      "execution_count": null,
      "metadata": {
        "colab": {
          "base_uri": "https://localhost:8080/"
        },
        "id": "d_j7nNbKRmhx",
        "outputId": "22d8e62c-55f1-4cbc-b979-f3575bc0acb5"
      },
      "outputs": [
        {
          "output_type": "stream",
          "name": "stdout",
          "text": [
            "Selecting previously unselected package libarchive-dev:amd64.\n",
            "(Reading database ... 128215 files and directories currently installed.)\n",
            "Preparing to unpack .../libarchive-dev_3.4.0-2ubuntu1.2_amd64.deb ...\n",
            "Unpacking libarchive-dev:amd64 (3.4.0-2ubuntu1.2) ...\n",
            "Setting up libarchive-dev:amd64 (3.4.0-2ubuntu1.2) ...\n",
            "Processing triggers for man-db (2.9.1-1) ...\n",
            "Looking in indexes: https://pypi.org/simple, https://us-python.pkg.dev/colab-wheels/public/simple/\n",
            "Collecting libarchive\n",
            "  Downloading libarchive-0.4.7.tar.gz (23 kB)\n",
            "  Preparing metadata (setup.py) ... \u001b[?25l\u001b[?25hdone\n",
            "Collecting nose\n",
            "  Downloading nose-1.3.7-py3-none-any.whl (154 kB)\n",
            "\u001b[2K     \u001b[90m━━━━━━━━━━━━━━━━━━━━━━━━━━━━━━━━━━━━━━━\u001b[0m \u001b[32m154.7/154.7 KB\u001b[0m \u001b[31m6.0 MB/s\u001b[0m eta \u001b[36m0:00:00\u001b[0m\n",
            "\u001b[?25hBuilding wheels for collected packages: libarchive\n",
            "  Building wheel for libarchive (setup.py) ... \u001b[?25l\u001b[?25hdone\n",
            "  Created wheel for libarchive: filename=libarchive-0.4.7-py3-none-any.whl size=31648 sha256=d39682414d4b70851c405497d3708e354b16b3e47cb4fff9c847fef6b9e557dc\n",
            "  Stored in directory: /root/.cache/pip/wheels/e2/96/fb/b17d6b9adb7c223428b4c77d9e8bc29f40a51d625389b73461\n",
            "Successfully built libarchive\n",
            "Installing collected packages: nose, libarchive\n",
            "Successfully installed libarchive-0.4.7 nose-1.3.7\n"
          ]
        }
      ],
      "source": [
        "# https://pypi.python.org/pypi/libarchive\n",
        "!apt-get -qq install -y libarchive-dev && pip install -U libarchive\n",
        "import libarchive"
      ]
    },
    {
      "cell_type": "markdown",
      "metadata": {
        "id": "PeaSX9KXR58J"
      },
      "source": [
        "# Install GraphViz & [PyDot](https://pypi.python.org/pypi/pydot)"
      ]
    },
    {
      "cell_type": "code",
      "execution_count": null,
      "metadata": {
        "colab": {
          "base_uri": "https://localhost:8080/"
        },
        "id": "w9llCG2wSRDx",
        "outputId": "17c62b49-4821-4871-bf6f-f5dafaff6528"
      },
      "outputs": [
        {
          "output_type": "stream",
          "name": "stdout",
          "text": [
            "Looking in indexes: https://pypi.org/simple, https://us-python.pkg.dev/colab-wheels/public/simple/\n",
            "Requirement already satisfied: pydot in /usr/local/lib/python3.8/dist-packages (1.3.0)\n",
            "Requirement already satisfied: pyparsing>=2.1.4 in /usr/local/lib/python3.8/dist-packages (from pydot) (3.0.9)\n"
          ]
        }
      ],
      "source": [
        "# https://pypi.python.org/pypi/pydot\n",
        "!apt-get -qq install -y graphviz && pip install pydot\n",
        "import pydot"
      ]
    },
    {
      "cell_type": "markdown",
      "metadata": {
        "id": "Tlh1MKxGrKFO"
      },
      "source": [
        "# Install [cartopy](http://scitools.org.uk/cartopy/docs/latest/)"
      ]
    },
    {
      "cell_type": "code",
      "execution_count": null,
      "metadata": {
        "colab": {
          "base_uri": "https://localhost:8080/"
        },
        "id": "Zq68DSY2rP2W",
        "outputId": "90fb2275-888b-4499-dfed-f6e10b06e5a9"
      },
      "outputs": [
        {
          "output_type": "stream",
          "name": "stdout",
          "text": [
            "Looking in indexes: https://pypi.org/simple, https://us-python.pkg.dev/colab-wheels/public/simple/\n",
            "Collecting cartopy\n",
            "  Downloading Cartopy-0.21.1.tar.gz (10.9 MB)\n",
            "\u001b[2K     \u001b[90m━━━━━━━━━━━━━━━━━━━━━━━━━━━━━━━━━━━━━━━━\u001b[0m \u001b[32m10.9/10.9 MB\u001b[0m \u001b[31m57.4 MB/s\u001b[0m eta \u001b[36m0:00:00\u001b[0m\n",
            "\u001b[?25h  Installing build dependencies ... \u001b[?25l\u001b[?25hdone\n",
            "  Getting requirements to build wheel ... \u001b[?25l\u001b[?25hdone\n",
            "  Preparing metadata (pyproject.toml) ... \u001b[?25l\u001b[?25hdone\n",
            "Requirement already satisfied: matplotlib>=3.1 in /usr/local/lib/python3.8/dist-packages (from cartopy) (3.5.3)\n",
            "Collecting pyproj>=3.0.0\n",
            "  Downloading pyproj-3.4.1-cp38-cp38-manylinux_2_17_x86_64.manylinux2014_x86_64.whl (7.8 MB)\n",
            "\u001b[2K     \u001b[90m━━━━━━━━━━━━━━━━━━━━━━━━━━━━━━━━━━━━━━━━\u001b[0m \u001b[32m7.8/7.8 MB\u001b[0m \u001b[31m73.6 MB/s\u001b[0m eta \u001b[36m0:00:00\u001b[0m\n",
            "\u001b[?25hCollecting pyshp>=2.1\n",
            "  Downloading pyshp-2.3.1-py2.py3-none-any.whl (46 kB)\n",
            "\u001b[2K     \u001b[90m━━━━━━━━━━━━━━━━━━━━━━━━━━━━━━━━━━━━━━━━\u001b[0m \u001b[32m46.5/46.5 KB\u001b[0m \u001b[31m3.7 MB/s\u001b[0m eta \u001b[36m0:00:00\u001b[0m\n",
            "\u001b[?25hRequirement already satisfied: numpy>=1.18 in /usr/local/lib/python3.8/dist-packages (from cartopy) (1.22.4)\n",
            "Requirement already satisfied: shapely>=1.6.4 in /usr/local/lib/python3.8/dist-packages (from cartopy) (2.0.1)\n",
            "Requirement already satisfied: cycler>=0.10 in /usr/local/lib/python3.8/dist-packages (from matplotlib>=3.1->cartopy) (0.11.0)\n",
            "Requirement already satisfied: pyparsing>=2.2.1 in /usr/local/lib/python3.8/dist-packages (from matplotlib>=3.1->cartopy) (3.0.9)\n",
            "Requirement already satisfied: kiwisolver>=1.0.1 in /usr/local/lib/python3.8/dist-packages (from matplotlib>=3.1->cartopy) (1.4.4)\n",
            "Requirement already satisfied: python-dateutil>=2.7 in /usr/local/lib/python3.8/dist-packages (from matplotlib>=3.1->cartopy) (2.8.2)\n",
            "Requirement already satisfied: fonttools>=4.22.0 in /usr/local/lib/python3.8/dist-packages (from matplotlib>=3.1->cartopy) (4.38.0)\n",
            "Requirement already satisfied: packaging>=20.0 in /usr/local/lib/python3.8/dist-packages (from matplotlib>=3.1->cartopy) (23.0)\n",
            "Requirement already satisfied: pillow>=6.2.0 in /usr/local/lib/python3.8/dist-packages (from matplotlib>=3.1->cartopy) (8.4.0)\n",
            "Requirement already satisfied: certifi in /usr/local/lib/python3.8/dist-packages (from pyproj>=3.0.0->cartopy) (2022.12.7)\n",
            "Requirement already satisfied: six>=1.5 in /usr/local/lib/python3.8/dist-packages (from python-dateutil>=2.7->matplotlib>=3.1->cartopy) (1.15.0)\n",
            "Building wheels for collected packages: cartopy\n",
            "  Building wheel for cartopy (pyproject.toml) ... \u001b[?25l\u001b[?25hdone\n",
            "  Created wheel for cartopy: filename=Cartopy-0.21.1-cp38-cp38-linux_x86_64.whl size=11127980 sha256=af0ab11df21e54b6213d24bdc7df60028cfff22db8f406d697238465b26e9df6\n",
            "  Stored in directory: /root/.cache/pip/wheels/7c/ff/6f/09e4aa53f4e67d6498ef1d33dd4ea9c8c165817b9ddcc31d28\n",
            "Successfully built cartopy\n",
            "Installing collected packages: pyshp, pyproj, cartopy\n",
            "Successfully installed cartopy-0.21.1 pyproj-3.4.1 pyshp-2.3.1\n"
          ]
        }
      ],
      "source": [
        "!pip install cartopy\n",
        "import cartopy"
      ]
    },
    {
      "cell_type": "code",
      "source": [
        "import random\n",
        "import pandas as pd\n",
        "from faker import Faker\n",
        "!pip install matplotlib-venn\n",
        "\n",
        "# set seed for reproducibility\n",
        "random.seed(123)\n",
        "\n",
        "# create fake data generator\n",
        "fake = Faker('en_US')\n",
        "\n",
        "# create list of client IDs\n",
        "client_ids = ['CL' + str(random.randint(1000, 9999)) for _ in range(1800)]\n",
        "\n",
        "# create list of client names\n",
        "client_names = [fake.first_name() + ' ' + fake.last_name() for _ in range(1800)]\n",
        "\n",
        "# create list of phone numbers\n",
        "phone_numbers = ['+234' + str(random.randint(10000000000, 99999999999)) for _ in range(1800)]\n",
        "\n",
        "# create list of emails\n",
        "emails = [name.lower().replace(' ', '.') + '@gmail.com' for name in client_names]\n",
        "\n",
        "# create list of registration dates\n",
        "reg_dates = [fake.date_between(start_date='-4y', end_date='today') for _ in range(1800)]\n",
        "\n",
        "# create list of user classes\n",
        "user_classes = ['Registered' if random.random() < 0.8 else 'Subscribed' for _ in range(1800)]\n",
        "\n",
        "# create dataframe\n",
        "df = pd.DataFrame({\n",
        "    'Client ID': client_ids,\n",
        "    'Client Name': client_names,\n",
        "    'Phone Number': phone_numbers,\n",
        "    'Email': emails,\n",
        "    'Reg.Date': reg_dates,\n",
        "    'User Class': user_classes\n",
        "})\n",
        "\n",
        "# write dataframe to Excel file\n",
        "df.to_excel('client_data.xlsx', index=False)\n"
      ],
      "metadata": {
        "colab": {
          "base_uri": "https://localhost:8080/",
          "height": 373
        },
        "id": "DzsB1twoOKyL",
        "outputId": "5cd5859b-5c54-4476-e5c6-3c87a3bde48d"
      },
      "execution_count": null,
      "outputs": [
        {
          "output_type": "error",
          "ename": "ModuleNotFoundError",
          "evalue": "ignored",
          "traceback": [
            "\u001b[0;31m---------------------------------------------------------------------------\u001b[0m",
            "\u001b[0;31mModuleNotFoundError\u001b[0m                       Traceback (most recent call last)",
            "\u001b[0;32m<ipython-input-6-a29c654c7ec5>\u001b[0m in \u001b[0;36m<module>\u001b[0;34m\u001b[0m\n\u001b[1;32m      1\u001b[0m \u001b[0;32mimport\u001b[0m \u001b[0mrandom\u001b[0m\u001b[0;34m\u001b[0m\u001b[0;34m\u001b[0m\u001b[0m\n\u001b[1;32m      2\u001b[0m \u001b[0;32mimport\u001b[0m \u001b[0mpandas\u001b[0m \u001b[0;32mas\u001b[0m \u001b[0mpd\u001b[0m\u001b[0;34m\u001b[0m\u001b[0;34m\u001b[0m\u001b[0m\n\u001b[0;32m----> 3\u001b[0;31m \u001b[0;32mfrom\u001b[0m \u001b[0mfaker\u001b[0m \u001b[0;32mimport\u001b[0m \u001b[0mFaker\u001b[0m\u001b[0;34m\u001b[0m\u001b[0;34m\u001b[0m\u001b[0m\n\u001b[0m\u001b[1;32m      4\u001b[0m \u001b[0mget_ipython\u001b[0m\u001b[0;34m(\u001b[0m\u001b[0;34m)\u001b[0m\u001b[0;34m.\u001b[0m\u001b[0msystem\u001b[0m\u001b[0;34m(\u001b[0m\u001b[0;34m'pip install matplotlib-venn'\u001b[0m\u001b[0;34m)\u001b[0m\u001b[0;34m\u001b[0m\u001b[0;34m\u001b[0m\u001b[0m\n\u001b[1;32m      5\u001b[0m \u001b[0;34m\u001b[0m\u001b[0m\n",
            "\u001b[0;31mModuleNotFoundError\u001b[0m: No module named 'faker'",
            "",
            "\u001b[0;31m---------------------------------------------------------------------------\u001b[0;32m\nNOTE: If your import is failing due to a missing package, you can\nmanually install dependencies using either !pip or !apt.\n\nTo view examples of installing some common dependencies, click the\n\"Open Examples\" button below.\n\u001b[0;31m---------------------------------------------------------------------------\u001b[0m\n"
          ],
          "errorDetails": {
            "actions": [
              {
                "action": "open_url",
                "actionText": "Open Examples",
                "url": "/notebooks/snippets/importing_libraries.ipynb"
              }
            ]
          }
        }
      ]
    },
    {
      "cell_type": "code",
      "source": [
        "!pip install Faker\n",
        "from faker import Faker"
      ],
      "metadata": {
        "colab": {
          "base_uri": "https://localhost:8080/"
        },
        "id": "Dl1O44d6Oazg",
        "outputId": "049ce4f2-7231-4f7d-ed3d-c619fbbbc054"
      },
      "execution_count": null,
      "outputs": [
        {
          "output_type": "stream",
          "name": "stdout",
          "text": [
            "Looking in indexes: https://pypi.org/simple, https://us-python.pkg.dev/colab-wheels/public/simple/\n",
            "Collecting Faker\n",
            "  Downloading Faker-17.6.0-py3-none-any.whl (1.7 MB)\n",
            "\u001b[2K     \u001b[90m━━━━━━━━━━━━━━━━━━━━━━━━━━━━━━━━━━━━━━━━\u001b[0m \u001b[32m1.7/1.7 MB\u001b[0m \u001b[31m19.3 MB/s\u001b[0m eta \u001b[36m0:00:00\u001b[0m\n",
            "\u001b[?25hRequirement already satisfied: python-dateutil>=2.4 in /usr/local/lib/python3.8/dist-packages (from Faker) (2.8.2)\n",
            "Requirement already satisfied: six>=1.5 in /usr/local/lib/python3.8/dist-packages (from python-dateutil>=2.4->Faker) (1.15.0)\n",
            "Installing collected packages: Faker\n",
            "Successfully installed Faker-17.6.0\n"
          ]
        }
      ]
    },
    {
      "cell_type": "code",
      "source": [
        "import random\n",
        "import pandas as pd\n",
        "from faker import Faker\n",
        "!pip install matplotlib-venn\n",
        "\n",
        "# set seed for reproducibility\n",
        "random.seed(123)\n",
        "\n",
        "# create fake data generator\n",
        "fake = Faker('en_US')\n",
        "\n",
        "# create list of client IDs\n",
        "client_ids = ['CL' + str(random.randint(1000, 9999)) for _ in range(1800)]\n",
        "\n",
        "# create list of client names\n",
        "client_names = [fake.first_name() + ' ' + fake.last_name() for _ in range(1800)]\n",
        "\n",
        "# create list of phone numbers\n",
        "phone_numbers = ['+234' + str(random.randint(10000000000, 99999999999)) for _ in range(1800)]\n",
        "\n",
        "# create list of emails\n",
        "emails = [name.lower().replace(' ', '.') + '@gmail.com' for name in client_names]\n",
        "\n",
        "# create list of registration dates\n",
        "reg_dates = [fake.date_between(start_date='-4y', end_date='today') for _ in range(1800)]\n",
        "\n",
        "# create list of user classes\n",
        "user_classes = ['Registered' if random.random() < 0.8 else 'Subscribed' for _ in range(1800)]\n",
        "\n",
        "# create dataframe\n",
        "df = pd.DataFrame({\n",
        "    'Client ID': client_ids,\n",
        "    'Client Name': client_names,\n",
        "    'Phone Number': phone_numbers,\n",
        "    'Email': emails,\n",
        "    'Reg.Date': reg_dates,\n",
        "    'User Class': user_classes\n",
        "})\n",
        "\n",
        "# write dataframe to Excel file\n",
        "df.to_excel('client_data.xlsx', index=False)\n"
      ],
      "metadata": {
        "colab": {
          "base_uri": "https://localhost:8080/"
        },
        "id": "TkN5xE71Oig4",
        "outputId": "d62328cd-cb7d-40b1-b9ac-5a1fdd79218a"
      },
      "execution_count": null,
      "outputs": [
        {
          "output_type": "stream",
          "name": "stdout",
          "text": [
            "Looking in indexes: https://pypi.org/simple, https://us-python.pkg.dev/colab-wheels/public/simple/\n",
            "Requirement already satisfied: matplotlib-venn in /usr/local/lib/python3.8/dist-packages (0.11.9)\n",
            "Requirement already satisfied: scipy in /usr/local/lib/python3.8/dist-packages (from matplotlib-venn) (1.10.1)\n",
            "Requirement already satisfied: numpy in /usr/local/lib/python3.8/dist-packages (from matplotlib-venn) (1.22.4)\n",
            "Requirement already satisfied: matplotlib in /usr/local/lib/python3.8/dist-packages (from matplotlib-venn) (3.5.3)\n",
            "Requirement already satisfied: pyparsing>=2.2.1 in /usr/local/lib/python3.8/dist-packages (from matplotlib->matplotlib-venn) (3.0.9)\n",
            "Requirement already satisfied: fonttools>=4.22.0 in /usr/local/lib/python3.8/dist-packages (from matplotlib->matplotlib-venn) (4.38.0)\n",
            "Requirement already satisfied: kiwisolver>=1.0.1 in /usr/local/lib/python3.8/dist-packages (from matplotlib->matplotlib-venn) (1.4.4)\n",
            "Requirement already satisfied: packaging>=20.0 in /usr/local/lib/python3.8/dist-packages (from matplotlib->matplotlib-venn) (23.0)\n",
            "Requirement already satisfied: cycler>=0.10 in /usr/local/lib/python3.8/dist-packages (from matplotlib->matplotlib-venn) (0.11.0)\n",
            "Requirement already satisfied: pillow>=6.2.0 in /usr/local/lib/python3.8/dist-packages (from matplotlib->matplotlib-venn) (8.4.0)\n",
            "Requirement already satisfied: python-dateutil>=2.7 in /usr/local/lib/python3.8/dist-packages (from matplotlib->matplotlib-venn) (2.8.2)\n",
            "Requirement already satisfied: six>=1.5 in /usr/local/lib/python3.8/dist-packages (from python-dateutil>=2.7->matplotlib->matplotlib-venn) (1.15.0)\n"
          ]
        }
      ]
    },
    {
      "cell_type": "code",
      "source": [
        "import random\n",
        "import pandas as pd\n",
        "from faker import Faker\n",
        "\n",
        "# Set up faker instance\n",
        "fake = Faker()\n",
        "\n",
        "# Set up the column names\n",
        "columns = ['Tutor ID', 'Tutor Name', 'Phone Number', 'Email', 'D.O.B', 'Y.O.T', 'Approval Status', 'Location', 'Account Number', 'Bank Name']\n",
        "\n",
        "# Set up the number of rows for the dataset\n",
        "rows = 300\n",
        "\n",
        "# Set up the empty list to hold the data\n",
        "data = []\n",
        "\n",
        "# Loop through the rows and generate the data\n",
        "for i in range(rows):\n",
        "    # Generate the Tutor ID\n",
        "    tutor_id = 'TU' + str(random.randint(1000, 9999))\n",
        "    \n",
        "    # Generate the Tutor Name\n",
        "    tutor_name = fake.first_name() + ' ' + fake.last_name()\n",
        "    \n",
        "    # Generate the Phone Number\n",
        "    phone_number = '+234' + str(random.randint(10000000000, 99999999999))\n",
        "    \n",
        "    # Generate the Email\n",
        "    email = tutor_name.replace(' ', '') + '@gmail.com'\n",
        "    \n",
        "    # Generate the D.O.B\n",
        "    dob = fake.date_of_birth().strftime('%m/%d/%Y')\n",
        "    \n",
        "    # Generate the Y.O.T\n",
        "    yot = str(random.randint(1, 10))\n",
        "    \n",
        "    # Generate the Approval Status\n",
        "    approval_status = random.choice(['Approved', 'Pending'])\n",
        "    \n",
        "    # Generate the Location\n",
        "    location = random.choice(['Abia', 'Adamawa', 'Akwa Ibom', 'Anambra', 'Bauchi', 'Bayelsa', 'Benue', 'Borno', 'Cross River', 'Delta', 'Ebonyi', 'Edo', 'Ekiti', 'Enugu', 'FCT', 'Gombe', 'Imo', 'Jigawa', 'Kaduna', 'Kano', 'Katsina', 'Kebbi', 'Kogi', 'Kwara', 'Lagos', 'Nasarawa', 'Niger', 'Ogun', 'Ondo', 'Osun', 'Oyo', 'Plateau', 'Rivers', 'Sokoto', 'Taraba', 'Yobe', 'Zamfara'])\n",
        "    \n",
        "    # Generate the Account Number\n",
        "    account_number = str(random.randint(1000000000, 9999999999))\n",
        "    \n",
        "    # Generate the Bank Name\n",
        "    bank_name = random.choice(['Access Bank', 'Fidelity Bank', 'First Bank', 'GTBank', 'UBA', 'Zenith Bank', 'Union Bank', 'Polaris Bank', 'Sterling Bank', 'Wema Bank', 'FCMB', 'Keystone Bank', 'Stanbic IBTC Bank', 'Standard Chartered Bank', 'Heritage Bank', 'Jaiz Bank', 'Providus Bank', 'Suntrust Bank', 'Titan Trust Bank', 'Unity Bank'])\n",
        "    \n",
        "    # Add the row of data to the list\n",
        "    row = [tutor_id, tutor_name, phone_number, email, dob, yot, approval_status, location, account_number, bank_name]\n",
        "    data.append(row)\n",
        "\n",
        "# Convert the list of data to a pandas DataFrame\n",
        "df = pd.DataFrame(data, columns=columns)\n",
        "\n",
        "# Print the first 5 rows of the dataset\n",
        "print(df.head())\n",
        "df.to_excel('tutor_data.xlsx', index=False)"
      ],
      "metadata": {
        "colab": {
          "base_uri": "https://localhost:8080/"
        },
        "id": "_DVdTgb4RRVq",
        "outputId": "a9bf073c-47ea-4dbc-f6f9-ce8849187164"
      },
      "execution_count": null,
      "outputs": [
        {
          "output_type": "stream",
          "name": "stdout",
          "text": [
            "  Tutor ID           Tutor Name     Phone Number  \\\n",
            "0   TU1013      Micheal Coleman  +23472897196433   \n",
            "1   TU1711          Brian Stone  +23436927930830   \n",
            "2   TU8993  Christopher Collins  +23416409506802   \n",
            "3   TU2444        Michael Stone  +23466883590221   \n",
            "4   TU6581        Robert Rhodes  +23455676006261   \n",
            "\n",
            "                          Email       D.O.B Y.O.T Approval Status Location  \\\n",
            "0      MichealColeman@gmail.com  10/04/1976     8        Approved    Kwara   \n",
            "1          BrianStone@gmail.com  02/17/1996     3        Approved     Kogi   \n",
            "2  ChristopherCollins@gmail.com  07/04/1961    10        Approved  Bayelsa   \n",
            "3        MichaelStone@gmail.com  10/30/1919    10        Approved  Adamawa   \n",
            "4        RobertRhodes@gmail.com  01/06/2002     7         Pending   Ebonyi   \n",
            "\n",
            "  Account Number      Bank Name  \n",
            "0     2416751790            UBA  \n",
            "1     2955587777    Zenith Bank  \n",
            "2     3203333974  Providus Bank  \n",
            "3     1938052483    Zenith Bank  \n",
            "4     1345523613    Access Bank  \n"
          ]
        }
      ]
    },
    {
      "cell_type": "code",
      "source": [
        "import pandas as pd\n",
        "import numpy as np\n",
        "import random\n",
        "import datetime\n",
        "\n",
        "# Set up categorical data\n",
        "request_types = ['Home Tutoring', 'Coding and Robotics for Schools', 'Online Tutoring']\n",
        "payment_statuses = ['Fully Paid', 'Half Payment', 'Unpaid']\n",
        "tutoring_statuses = ['Delivered', 'In Progress', 'Not Started']\n",
        "feedback_options = ['Extremely Satisfied', 'Satisfied', 'Neutral', 'Unhappy', 'Very Unhappy']\n",
        "locations = ['Abuja', 'Lagos', 'Port Harcourt', 'Kano', 'Enugu', 'Ibadan', 'Calabar', 'Benin', 'Warri', 'Kaduna']\n",
        "\n",
        "# Generate dataset\n",
        "df = pd.DataFrame(columns=['Request Type', 'Request Date', 'Request Duration(Months)', 'Amount_Client', 'Payment Status_Client',\n",
        "                           'Amount_Tutor', 'Payment Status_Tutor', 'Tutoring Status', 'Client Feedback', 'Location'])\n",
        "\n",
        "for i in range(2000):\n",
        "    request_type = random.choice(request_types)\n",
        "    if request_type == 'Home Tutoring':\n",
        "        amount_client = random.randint(70000, 180000)\n",
        "        amount_tutor = random.randint(50000, 100000)\n",
        "    elif request_type == 'Coding and Robotics for Schools':\n",
        "        amount_client = random.randint(200000, 450000)\n",
        "        amount_tutor = random.randint(70000, 150000)\n",
        "    else:\n",
        "        amount_client = random.randint(40000, 90000)\n",
        "        amount_tutor = random.randint(30000, 50000)\n",
        "    payment_status_client = random.choice(payment_statuses)\n",
        "    payment_status_tutor = random.choice(payment_statuses)\n",
        "    tutoring_status = random.choice(tutoring_statuses)\n",
        "    client_feedback = random.choice(feedback_options)\n",
        "    location = random.choice(locations)\n",
        "    request_date = datetime.datetime(random.randint(2019, 2023), random.randint(1, 12), random.randint(1, 28))\n",
        "    request_duration = str(random.choice(range(3, 10))) + ' months'\n",
        "    \n",
        "    df = df.append({\n",
        "        'Request Type': request_type,\n",
        "        'Request Date': request_date,\n",
        "        'Request Duration(Months)': request_duration,\n",
        "        'Amount_Client': amount_client,\n",
        "        'Payment Status_Client': payment_status_client,\n",
        "        'Amount_Tutor': amount_tutor,\n",
        "        'Payment Status_Tutor': payment_status_tutor,\n",
        "        'Tutoring Status': tutoring_status,\n",
        "        'Client Feedback': client_feedback,\n",
        "        'Location': location\n",
        "    }, ignore_index=True)\n",
        "\n",
        "# Export dataframe to Excel\n",
        "df.to_excel('tutoring_requests.xlsx', index=False)\n"
      ],
      "metadata": {
        "id": "Tl8rnKakWvRY"
      },
      "execution_count": null,
      "outputs": []
    },
    {
      "cell_type": "code",
      "source": [
        "import pandas as pd\n",
        "import numpy as np\n",
        "\n",
        "# create empty DataFrame\n",
        "df = pd.DataFrame(columns=['Student ID', 'Student Name', 'Class'])\n",
        "\n",
        "# generate 600 random student records\n",
        "for i in range(600):\n",
        "    # generate random student ID\n",
        "    student_id = 'ST' + str(np.random.randint(10000, 99999))\n",
        "    \n",
        "    # generate random student name\n",
        "    first_names = ['Ade', 'Bola', 'Chuka', 'Dami', 'Emeka', 'Femi', 'Gloria', 'Hassan', 'Ifeoma', 'Jumoke', 'Kemi', 'Lola', 'Musa', 'Ngozi', 'Obinna', 'Patience', 'Quincy', 'Rasheed', 'Sade', 'Temi', 'Ugo', 'Victoria', 'Wale', 'Xavier', 'Yemi', 'Zara']\n",
        "    last_names = ['Adeyemo', 'Bello', 'Chukwu', 'Daramola', 'Emmanuel', 'Folarin', 'Gbadamosi', 'Haruna', 'Ibezim', 'Jaiyeola', 'Kehinde', 'Lawal', 'Makinde', 'Nwabueze', 'Okeke', 'Peter', 'Quadri', 'Rashidi', 'Suleiman', 'Tijani', 'Ugwu', 'Vitalis', 'Williams', 'Xu', 'Yusuf', 'Zakari']\n",
        "    student_name = np.random.choice(first_names) + ' ' + np.random.choice(last_names)\n",
        "    \n",
        "    # generate random student class\n",
        "    student_class = np.random.choice(['PR 1', 'PR 2', 'PR 3', 'PR 4', 'PR 5', 'PR 6', 'JSS 1', 'JSS 2', 'JSS 3', 'SS 1', 'SS 2', 'SS 3'])\n",
        "    \n",
        "    # add row to DataFrame\n",
        "    df.loc[i] = [student_id, student_name, student_class]\n",
        "\n",
        "# save DataFrame to Excel file\n",
        "df.to_excel('students.xlsx', index=False)"
      ],
      "metadata": {
        "id": "q9gjWI_gY1CF"
      },
      "execution_count": null,
      "outputs": []
    },
    {
      "cell_type": "code",
      "source": [
        "import pandas as pd\n",
        "import random\n",
        "from datetime import datetime, timedelta\n",
        "\n",
        "# Define the number of schools to generate\n",
        "n = 200\n",
        "\n",
        "# Define the columns of the Excel dataset\n",
        "columns = ['School ID', 'School Name', 'Date Onboarded', 'Location']\n",
        "\n",
        "# Define the possible states\n",
        "states = ['Lagos', 'Abuja', 'Port Harcourt']\n",
        "\n",
        "# Generate random schools\n",
        "schools = []\n",
        "for i in range(n):\n",
        "    school_id = 'SCH' + str(random.randint(1000, 9999))\n",
        "    school_name = random.choice(['African Unity School', 'Freedom High School', 'Hope Academy', 'Liberty Secondary School', 'Peaceful College'])\n",
        "    date_onboarded = datetime(2019, 11, 1) + timedelta(days=random.randint(0, 1219))\n",
        "    location = random.choice(states)\n",
        "    schools.append([school_id, school_name, date_onboarded, location])\n",
        "\n",
        "# Convert the schools list to a Pandas DataFrame\n",
        "df = pd.DataFrame(schools, columns=columns)\n",
        "\n",
        "# Save the DataFrame to an Excel file\n",
        "df.to_excel('random_schools.xlsx', index=False)\n"
      ],
      "metadata": {
        "id": "tc6eLtoGeX_3"
      },
      "execution_count": null,
      "outputs": []
    },
    {
      "cell_type": "code",
      "source": [
        "import pandas as pd\n",
        "import numpy as np\n",
        "import random\n",
        "\n",
        "# Create a list of positions\n",
        "positions = ['Teacher', 'Admin', 'Proprietor']\n",
        "\n",
        "# Create empty lists for each column\n",
        "staff_id = []\n",
        "staff_name = []\n",
        "position = []\n",
        "\n",
        "# Generate 300 unique staff IDs\n",
        "for i in range(300):\n",
        "    staff_id.append('STF' + str(random.randint(1000, 9999)))\n",
        "\n",
        "# Generate 300 random staff names\n",
        "for i in range(300):\n",
        "    first_name = np.random.choice(['Ade', 'Bola', 'Chika', 'Dapo', 'Emeka', 'Fatima', 'Grace', 'Hassan', 'Ibrahim', 'Jide', 'Kemi', 'Lola', 'Musa', 'Ngozi', 'Ola', 'Patience', 'Qudus', 'Rashid', 'Sade', 'Tayo', 'Uche', 'Vivian', 'Wale', 'Xavier', 'Yemi', 'Zainab'])\n",
        "    last_name = np.random.choice(['Ade', 'Bello', 'Chukwu', 'Daudu', 'Eze', 'Fashola', 'Gbadamosi', 'Hammed', 'Ibekwe', 'Jaja', 'Kalu', 'Lawal', 'Mohammed', 'Nwosu', 'Ogunbiyi', 'Paul', 'Quadri', 'Raji', 'Sadiq', 'Tijani', 'Umar', 'Vivian', 'Williams', 'Xaba', 'Yakubu', 'Zakari'])\n",
        "    staff_name.append(first_name + ' ' + last_name)\n",
        "\n",
        "# Assign a position to each staff member\n",
        "for i in range(300):\n",
        "    position.append(np.random.choice(positions))\n",
        "\n",
        "# Combine the lists into a pandas DataFrame\n",
        "data = {'Staff ID': staff_id, 'Staff Name': staff_name, 'Position': position}\n",
        "df = pd.DataFrame(data)\n",
        "\n",
        "# Export the DataFrame to an Excel file\n",
        "df.to_excel('staff_data.xlsx', index=False)\n"
      ],
      "metadata": {
        "id": "2YhWSqFDefze"
      },
      "execution_count": null,
      "outputs": []
    },
    {
      "cell_type": "code",
      "source": [],
      "metadata": {
        "id": "NzWy0uAcqXpl"
      },
      "execution_count": null,
      "outputs": []
    },
    {
      "cell_type": "code",
      "execution_count": null,
      "metadata": {
        "colab": {
          "base_uri": "https://localhost:8080/"
        },
        "id": "S7FY0YLfqZKa",
        "outputId": "b8467bb3-7ccb-4c7f-836e-74b70429b8b6"
      },
      "outputs": [
        {
          "output_type": "stream",
          "name": "stdout",
          "text": [
            "Looking in indexes: https://pypi.org/simple, https://us-python.pkg.dev/colab-wheels/public/simple/\n",
            "Requirement already satisfied: Faker in /usr/local/lib/python3.9/dist-packages (18.4.0)\n",
            "Requirement already satisfied: python-dateutil>=2.4 in /usr/local/lib/python3.9/dist-packages (from Faker) (2.8.2)\n",
            "Requirement already satisfied: six>=1.5 in /usr/local/lib/python3.9/dist-packages (from python-dateutil>=2.4->Faker) (1.16.0)\n"
          ]
        }
      ],
      "source": [
        "!pip install Faker\n",
        "import faker"
      ]
    },
    {
      "cell_type": "code",
      "source": [
        "import random\n",
        "import pandas as pd\n",
        "library(faker)\n",
        "\n",
        "sample = faker()\n",
        "\n",
        "# List of 200 random school names\n",
        "schools = [sample.company() for i in range(200)]\n",
        "\n",
        "# List of states in Lagos, Abuja, and Port Harcourt\n",
        "locations = ['Lagos', 'Abuja', 'Port Harcourt']\n",
        "\n",
        "# Generate random school ID, date onboarded, and location for each school\n",
        "school_id = ['SCH'+str(random.randint(1000,9999)) for i in range(200)]\n",
        "date_onboarded = [sample.date_between(start_date='-3y', end_date='today') for i in range(200)]\n",
        "location = [random.choice(locations) for i in range(200)]\n",
        "\n",
        "# Create a dataframe with the generated dat\n",
        "df = pd.DataFrame({'School ID': school_id,\n",
        "                   'School Name': schools,\n",
        "                   'Date Onboarded': date_onboarded,\n",
        "                   'Location': location})\n",
        "\n",
        "# Save the dataframe to an Excel file\n",
        "df.to_excel('schools_dataset.xlsx', index=False)\n"
      ],
      "metadata": {
        "colab": {
          "base_uri": "https://localhost:8080/",
          "height": 235
        },
        "id": "C2qrb36RjQie",
        "outputId": "a76ffb4a-b0a6-4443-bba5-e91987acdd7a"
      },
      "execution_count": null,
      "outputs": [
        {
          "output_type": "error",
          "ename": "NameError",
          "evalue": "ignored",
          "traceback": [
            "\u001b[0;31m---------------------------------------------------------------------------\u001b[0m",
            "\u001b[0;31mNameError\u001b[0m                                 Traceback (most recent call last)",
            "\u001b[0;32m<ipython-input-14-993dcbea4e22>\u001b[0m in \u001b[0;36m<cell line: 3>\u001b[0;34m()\u001b[0m\n\u001b[1;32m      1\u001b[0m \u001b[0;32mimport\u001b[0m \u001b[0mrandom\u001b[0m\u001b[0;34m\u001b[0m\u001b[0;34m\u001b[0m\u001b[0m\n\u001b[1;32m      2\u001b[0m \u001b[0;32mimport\u001b[0m \u001b[0mpandas\u001b[0m \u001b[0;32mas\u001b[0m \u001b[0mpd\u001b[0m\u001b[0;34m\u001b[0m\u001b[0;34m\u001b[0m\u001b[0m\n\u001b[0;32m----> 3\u001b[0;31m \u001b[0mlibrary\u001b[0m\u001b[0;34m(\u001b[0m\u001b[0mfaker\u001b[0m\u001b[0;34m)\u001b[0m\u001b[0;34m\u001b[0m\u001b[0;34m\u001b[0m\u001b[0m\n\u001b[0m\u001b[1;32m      4\u001b[0m \u001b[0;34m\u001b[0m\u001b[0m\n\u001b[1;32m      5\u001b[0m \u001b[0msample\u001b[0m \u001b[0;34m=\u001b[0m \u001b[0mfaker\u001b[0m\u001b[0;34m(\u001b[0m\u001b[0;34m)\u001b[0m\u001b[0;34m\u001b[0m\u001b[0;34m\u001b[0m\u001b[0m\n",
            "\u001b[0;31mNameError\u001b[0m: name 'library' is not defined"
          ]
        }
      ]
    },
    {
      "cell_type": "code",
      "source": [
        "import random\n",
        "import string\n",
        "import datetime\n",
        "\n",
        "# List of school names\n",
        "school_names = [\n",
        "    \"Abuja International School\",\n",
        "    \"African Leadership Academy\",\n",
        "    \"Atlantic Hall\",\n",
        "    \"British International School\",\n",
        "    \"Capital Science Academy\",\n",
        "    \"Dowen College\",\n",
        "    \"Grange School\",\n",
        "    \"Greenoak International School\",\n",
        "    \"Lekki British School\",\n",
        "    \"Loyola Jesuit College\",\n",
        "    \"Nigerian Turkish International College\",\n",
        "    \"Premiere Academy\",\n",
        "    \"Regent School\",\n",
        "    \"St. Gregory's College\",\n",
        "    \"The Vale College\",\n",
        "    \"Whiteplains British School\",\n",
        "    # add more school names here\n",
        "]\n",
        "\n",
        "# List of states\n",
        "states = [\"Lagos\", \"Abuja\", \"Port Harcourt\"]\n",
        "\n",
        "# Generate dataset\n",
        "dataset = []\n",
        "for i in range(200):\n",
        "    # Generate random school ID\n",
        "    school_id = \"SCH\" + ''.join(random.choices(string.digits, k=4))\n",
        "\n",
        "    # Get random school name\n",
        "    school_name = random.choice(school_names)\n",
        "\n",
        "    # Generate random date onboarded\n",
        "    start_date = datetime.date(2019, 11, 1)\n",
        "    end_date = datetime.date(2023, 3, 31)\n",
        "    onboarded_date = start_date + datetime.timedelta(days=random.randint(0, (end_date - start_date).days))\n",
        "\n",
        "    # Get random location\n",
        "    location = random.choice(states)\n",
        "\n",
        "    # Add row to dataset\n",
        "    row = [school_id, school_name, onboarded_date, location]\n",
        "    dataset.append(row)\n",
        "\n",
        "# Export dataset to Excel\n",
        "import pandas as pd\n",
        "\n",
        "df = pd.DataFrame(dataset, columns=['School ID', 'School name', 'Date Onboarded', 'Location'])\n",
        "df.to_excel('schools_dataset.xlsx', index=False)\n"
      ],
      "metadata": {
        "id": "PIjoEue0kSpY"
      },
      "execution_count": null,
      "outputs": []
    },
    {
      "cell_type": "code",
      "source": [
        "import random\n",
        "import string\n",
        "import pandas as pd\n",
        "import datetime\n",
        "\n",
        "# Function to generate random school IDs\n",
        "def generate_school_id():\n",
        "    return 'SCH' + ''.join(random.choices(string.digits, k=4))\n",
        "\n",
        "# Function to generate random school names\n",
        "def generate_school_name():\n",
        "    prefixes = ['Green', 'Blue', 'Red', 'White', 'Yellow', 'Purple', 'Orange', 'Pink']\n",
        "    suffixes = ['High School', 'Secondary School', 'Grammar School', 'College', 'Academy']\n",
        "    return random.choice(prefixes) + ' ' + random.choice(suffixes)\n",
        "\n",
        "# Function to generate random dates within the given range\n",
        "def generate_random_date(start_date, end_date):\n",
        "    days = (end_date - start_date).days\n",
        "    return start_date + datetime.timedelta(days=random.randint(0, days))\n",
        "\n",
        "# Create a list of states in Nigeria\n",
        "states = ['Lagos', 'Abuja', 'Port Harcourt']\n",
        "\n",
        "# Generate a list of 200 schools with unique IDs and names\n",
        "schools = []\n",
        "school_ids = set()\n",
        "while len(schools) < 200:\n",
        "    school_id = generate_school_id()\n",
        "    if school_id not in school_ids:\n",
        "        school_name = generate_school_name()\n",
        "        schools.append((school_id, school_name))\n",
        "        school_ids.add(school_id)\n",
        "\n",
        "# Create a list of 200 random dates within the given range\n",
        "start_date = datetime.date(2019, 11, 1)\n",
        "end_date = datetime.date(2023, 3, 31)\n",
        "dates = [generate_random_date(start_date, end_date) for i in range(200)]\n",
        "\n",
        "# Create a list of 200 random states\n",
        "states_list = [random.choice(states) for i in range(200)]\n",
        "\n",
        "# Combine the lists into a DataFrame\n",
        "df = pd.DataFrame({\n",
        "    'School ID': [school[0] for school in schools],\n",
        "    'School name': [school[1] for school in schools],\n",
        "    'Date Onboarded': dates,\n",
        "    'Location': states_list\n",
        "})\n",
        "\n",
        "# Export the DataFrame to Excel\n",
        "df.to_excel('schools_dataset.xlsx', index=False)\n"
      ],
      "metadata": {
        "id": "V90HmF4pooxg"
      },
      "execution_count": null,
      "outputs": []
    },
    {
      "cell_type": "code",
      "source": [
        "import random\n",
        "\n",
        "# list of school name parts\n",
        "name_parts = [\n",
        "    'Bright', 'Future', 'Discovery', 'Success', 'Global', \n",
        "    'Knowledge', 'Leadership', 'Mastery', 'Innovation', 'Excellence',\n",
        "    'Hope', 'Vision', 'Harmony', 'Unity', 'Transform', \n",
        "    'Prosper', 'Empower', 'Inspire', 'Impact', 'Dream'\n",
        "]\n",
        "\n",
        "# list of African countries\n",
        "countries = [\n",
        "    'Algeria', 'Angola', 'Benin', 'Botswana', 'Burkina Faso', \n",
        "    'Burundi', 'Cameroon', 'Cape Verde', 'Central African Republic', 'Chad', \n",
        "    'Comoros', 'Democratic Republic of the Congo', 'Djibouti', 'Egypt', 'Equatorial Guinea',\n",
        "    'Eritrea', 'Ethiopia', 'Gabon', 'Gambia', 'Ghana', \n",
        "    'Guinea', 'Guinea-Bissau', 'Ivory Coast', 'Kenya', 'Lesotho', \n",
        "    'Liberia', 'Libya', 'Madagascar', 'Malawi', 'Mali', \n",
        "    'Mauritania', 'Mauritius', 'Morocco', 'Mozambique', 'Namibia', \n",
        "    'Niger', 'Nigeria', 'Republic of the Congo', 'Rwanda', 'Sao Tome and Principe', \n",
        "    'Senegal', 'Seychelles', 'Sierra Leone', 'Somalia', 'South Africa', \n",
        "    'South Sudan', 'Sudan', 'Swaziland', 'Tanzania', 'Togo', \n",
        "    'Tunisia', 'Uganda', 'Zambia', 'Zimbabwe'\n",
        "]\n",
        "\n",
        "# generate school names\n",
        "school_names = []\n",
        "for i in range(200):\n",
        "    name = random.choice(name_parts)\n",
        "    name += ' ' + random.choice(countries) + ' ' + random.choice(['Academy', 'College', 'School'])\n",
        "    school_names.append(name)\n",
        "\n",
        "# print the school names\n",
        "print(school_names)\n",
        "len(school_names)"
      ],
      "metadata": {
        "colab": {
          "base_uri": "https://localhost:8080/"
        },
        "id": "VVpU0nvhrwoS",
        "outputId": "959806aa-d33f-42a1-8a58-d4554463228e"
      },
      "execution_count": null,
      "outputs": [
        {
          "output_type": "stream",
          "name": "stdout",
          "text": [
            "['Impact Malawi Academy', 'Leadership Sao Tome and Principe Academy', 'Unity Guinea-Bissau College', 'Empower Comoros Academy', 'Global Guinea College', 'Empower Djibouti Academy', 'Vision Djibouti School', 'Discovery Algeria School', 'Transform Angola School', 'Mastery Tanzania Academy', 'Success Senegal Academy', 'Excellence Guinea-Bissau School', 'Unity Botswana College', 'Impact Equatorial Guinea School', 'Knowledge Togo School', 'Harmony Chad School', 'Dream Gambia School', 'Discovery Mauritius School', 'Innovation Republic of the Congo School', 'Impact South Africa College', 'Knowledge Sierra Leone College', 'Inspire Tunisia Academy', 'Excellence Sao Tome and Principe School', 'Excellence Tanzania College', 'Discovery Mali Academy', 'Dream Ethiopia Academy', 'Success Zambia College', 'Unity Republic of the Congo Academy', 'Discovery Algeria College', 'Leadership Cameroon Academy', 'Excellence Sao Tome and Principe College', 'Inspire Nigeria College', 'Knowledge Sierra Leone School', 'Unity Namibia School', 'Discovery Comoros School', 'Global Djibouti School', 'Mastery Equatorial Guinea College', 'Success Madagascar Academy', 'Empower Central African Republic School', 'Vision Equatorial Guinea School', 'Empower Burundi College', 'Hope Madagascar Academy', 'Bright Ivory Coast Academy', 'Inspire Cape Verde School', 'Unity Sierra Leone Academy', 'Vision Namibia Academy', 'Unity Rwanda School', 'Unity Niger Academy', 'Impact Djibouti College', 'Excellence Ivory Coast School', 'Future Democratic Republic of the Congo School', 'Empower Morocco School', 'Transform Algeria School', 'Innovation Niger College', 'Impact Cape Verde College', 'Hope Morocco School', 'Innovation Togo Academy', 'Harmony Ethiopia School', 'Mastery Equatorial Guinea Academy', 'Empower South Africa School', 'Innovation Zambia College', 'Leadership Kenya College', 'Inspire Sudan Academy', 'Vision Nigeria Academy', 'Innovation Zambia College', 'Prosper Djibouti Academy', 'Leadership Benin Academy', 'Leadership Cape Verde Academy', 'Leadership Nigeria Academy', 'Dream Senegal Academy', 'Leadership Republic of the Congo College', 'Innovation Cameroon Academy', 'Innovation Sudan College', 'Discovery Nigeria Academy', 'Inspire Libya College', 'Mastery Mozambique School', 'Global South Sudan Academy', 'Dream Djibouti College', 'Discovery Sudan School', 'Excellence Tanzania Academy', 'Impact Angola Academy', 'Empower Burkina Faso School', 'Empower Tunisia College', 'Prosper Uganda College', 'Unity Namibia School', 'Prosper Cameroon College', 'Empower Burkina Faso School', 'Transform Rwanda School', 'Unity Guinea-Bissau School', 'Knowledge Sudan College', 'Prosper Madagascar School', 'Knowledge Sierra Leone College', 'Excellence Mozambique College', 'Excellence Niger College', 'Prosper Togo Academy', 'Innovation Tanzania College', 'Leadership Eritrea College', 'Prosper Senegal Academy', 'Prosper Eritrea School', 'Harmony Tunisia College', 'Success Togo School', 'Prosper Mauritania School', 'Future Swaziland Academy', 'Innovation Libya Academy', 'Mastery Morocco Academy', 'Knowledge Burundi Academy', 'Hope Gambia College', 'Knowledge Madagascar School', 'Unity Ghana College', 'Dream Cameroon Academy', 'Global Swaziland School', 'Empower Djibouti College', 'Excellence Sudan School', 'Transform Gambia School', 'Mastery Libya Academy', 'Prosper Mali School', 'Global Mali School', 'Empower Djibouti College', 'Hope Nigeria Academy', 'Prosper Angola School', 'Mastery Gambia Academy', 'Global Niger College', 'Success Equatorial Guinea School', 'Global Djibouti College', 'Hope Chad School', 'Mastery Ghana School', 'Excellence Kenya Academy', 'Impact Ethiopia Academy', 'Unity Niger College', 'Harmony Burundi College', 'Transform Chad School', 'Prosper Togo Academy', 'Mastery Zambia School', 'Excellence Lesotho College', 'Global Rwanda College', 'Global Republic of the Congo Academy', 'Impact Zambia College', 'Vision Libya Academy', 'Hope Swaziland College', 'Hope Eritrea School', 'Success Sudan School', 'Dream Cameroon School', 'Inspire Kenya Academy', 'Bright Nigeria Academy', 'Inspire South Sudan Academy', 'Harmony Libya College', 'Leadership Nigeria School', 'Mastery Swaziland Academy', 'Leadership Chad College', 'Vision Cameroon Academy', 'Vision Madagascar School', 'Harmony Djibouti School', 'Leadership Eritrea College', 'Bright Somalia College', 'Global Algeria College', 'Empower Central African Republic School', 'Knowledge Mauritania School', 'Future Libya Academy', 'Discovery Equatorial Guinea School', 'Vision Cameroon Academy', 'Empower Benin College', 'Knowledge Mauritius College', 'Bright Central African Republic College', 'Harmony Mauritius Academy', 'Excellence Democratic Republic of the Congo School', 'Impact Somalia College', 'Discovery Malawi Academy', 'Mastery Ethiopia College', 'Hope Morocco College', 'Vision Democratic Republic of the Congo College', 'Inspire Mali School', 'Dream Niger School', 'Inspire Togo School', 'Leadership Guinea College', 'Bright Ghana College', 'Prosper Liberia Academy', 'Vision Cameroon College', 'Empower Ghana Academy', 'Unity Republic of the Congo Academy', 'Prosper Central African Republic Academy', 'Inspire Namibia Academy', 'Transform Mauritius Academy', 'Vision Kenya College', 'Leadership Malawi School', 'Unity Niger College', 'Knowledge Nigeria College', 'Dream Comoros Academy', 'Unity Djibouti Academy', 'Success Libya Academy', 'Dream Republic of the Congo College', 'Discovery Sierra Leone College', 'Prosper South Africa School', 'Inspire Lesotho Academy', 'Vision Mauritius College', 'Excellence Sudan College', 'Transform Niger School', 'Innovation Angola School', 'Innovation Eritrea School', 'Hope Togo Academy', 'Discovery Cameroon School']\n"
          ]
        },
        {
          "output_type": "execute_result",
          "data": {
            "text/plain": [
              "200"
            ]
          },
          "metadata": {},
          "execution_count": 17
        }
      ]
    },
    {
      "cell_type": "code",
      "source": [
        "import random\n",
        "import datetime\n",
        "import pandas as pd\n",
        "\n",
        "# Generate a list of 200 distinct school names in Africa\n",
        "def generate_school_names(num_schools):\n",
        "    school_names = []\n",
        "    while len(school_names) < num_schools:\n",
        "        name = f\"{random.choice(['New', 'Bright', 'Global', 'Future', 'Ideal', 'First', 'Modern'])} {random.choice(['Horizon', 'Vision', 'Leaders', 'Thinkers', 'Minds', 'Heights', 'Academy'])} {random.choice(['School', 'College', 'Academy'])}\"\n",
        "        if name not in school_names:\n",
        "            school_names.append(name)\n",
        "    return school_names\n",
        "\n",
        "# Generate a list of random dates in the range of November 2019 - March 2023\n",
        "def generate_random_dates(num_dates):\n",
        "    start_date = datetime.date(2019, 11, 1)\n",
        "    end_date = datetime.date(2023, 3, 31)\n",
        "    time_between_dates = end_date - start_date\n",
        "    days_between_dates = time_between_dates.days\n",
        "    random_dates = []\n",
        "    for i in range(num_dates):\n",
        "        random_number_of_days = random.randrange(days_between_dates)\n",
        "        random_date = start_date + datetime.timedelta(days=random_number_of_days)\n",
        "        random_dates.append(random_date.strftime(\"%m/%d/%Y\"))\n",
        "    return random_dates\n",
        "\n",
        "# Generate a list of categorical data with a range of states across Lagos, Abuja, and Port Harcourt\n",
        "def generate_locations(num_locations):\n",
        "    locations = []\n",
        "    while len(locations) < num_locations:\n",
        "        location = random.choice(['Lagos', 'Abuja', 'Port Harcourt'])\n",
        "        if location not in locations:\n",
        "            locations.append(location)\n",
        "    return locations\n",
        "\n",
        "# Generate the dataset\n",
        "num_schools = 200\n",
        "school_ids = ['SCH' + str(random.randint(1000,9999)) for _ in range(num_schools)]\n",
        "school_names = generate_school_names(num_schools)\n",
        "dates_onboarded = generate_random_dates(num_schools)\n",
        "locations = generate_locations(num_schools)\n",
        "\n",
        "# Create a dictionary to hold the data\n",
        "data = {'School ID': school_ids,\n",
        "        'School name': school_names,\n",
        "        'Date Onboarded': dates_onboarded,\n",
        "        'Location': locations}\n",
        "\n",
        "# Create a pandas dataframe from the dictionary\n",
        "df = pd.DataFrame(data)\n",
        "\n",
        "# Write the dataframe to an Excel file\n",
        "df.to_excel('schools_data.xlsx', index=False)\n"
      ],
      "metadata": {
        "colab": {
          "base_uri": "https://localhost:8080/",
          "height": 391
        },
        "id": "FLgFOI9atEba",
        "outputId": "29d21ea7-1af2-4f7a-e5a1-8da7002743b8"
      },
      "execution_count": null,
      "outputs": [
        {
          "output_type": "error",
          "ename": "KeyboardInterrupt",
          "evalue": "ignored",
          "traceback": [
            "\u001b[0;31m---------------------------------------------------------------------------\u001b[0m",
            "\u001b[0;31mKeyboardInterrupt\u001b[0m                         Traceback (most recent call last)",
            "\u001b[0;32m<ipython-input-19-b336af2035d6>\u001b[0m in \u001b[0;36m<cell line: 39>\u001b[0;34m()\u001b[0m\n\u001b[1;32m     37\u001b[0m \u001b[0mnum_schools\u001b[0m \u001b[0;34m=\u001b[0m \u001b[0;36m200\u001b[0m\u001b[0;34m\u001b[0m\u001b[0;34m\u001b[0m\u001b[0m\n\u001b[1;32m     38\u001b[0m \u001b[0mschool_ids\u001b[0m \u001b[0;34m=\u001b[0m \u001b[0;34m[\u001b[0m\u001b[0;34m'SCH'\u001b[0m \u001b[0;34m+\u001b[0m \u001b[0mstr\u001b[0m\u001b[0;34m(\u001b[0m\u001b[0mrandom\u001b[0m\u001b[0;34m.\u001b[0m\u001b[0mrandint\u001b[0m\u001b[0;34m(\u001b[0m\u001b[0;36m1000\u001b[0m\u001b[0;34m,\u001b[0m\u001b[0;36m9999\u001b[0m\u001b[0;34m)\u001b[0m\u001b[0;34m)\u001b[0m \u001b[0;32mfor\u001b[0m \u001b[0m_\u001b[0m \u001b[0;32min\u001b[0m \u001b[0mrange\u001b[0m\u001b[0;34m(\u001b[0m\u001b[0mnum_schools\u001b[0m\u001b[0;34m)\u001b[0m\u001b[0;34m]\u001b[0m\u001b[0;34m\u001b[0m\u001b[0;34m\u001b[0m\u001b[0m\n\u001b[0;32m---> 39\u001b[0;31m \u001b[0mschool_names\u001b[0m \u001b[0;34m=\u001b[0m \u001b[0mgenerate_school_names\u001b[0m\u001b[0;34m(\u001b[0m\u001b[0mnum_schools\u001b[0m\u001b[0;34m)\u001b[0m\u001b[0;34m\u001b[0m\u001b[0;34m\u001b[0m\u001b[0m\n\u001b[0m\u001b[1;32m     40\u001b[0m \u001b[0mdates_onboarded\u001b[0m \u001b[0;34m=\u001b[0m \u001b[0mgenerate_random_dates\u001b[0m\u001b[0;34m(\u001b[0m\u001b[0mnum_schools\u001b[0m\u001b[0;34m)\u001b[0m\u001b[0;34m\u001b[0m\u001b[0;34m\u001b[0m\u001b[0m\n\u001b[1;32m     41\u001b[0m \u001b[0mlocations\u001b[0m \u001b[0;34m=\u001b[0m \u001b[0mgenerate_locations\u001b[0m\u001b[0;34m(\u001b[0m\u001b[0mnum_schools\u001b[0m\u001b[0;34m)\u001b[0m\u001b[0;34m\u001b[0m\u001b[0;34m\u001b[0m\u001b[0m\n",
            "\u001b[0;32m<ipython-input-19-b336af2035d6>\u001b[0m in \u001b[0;36mgenerate_school_names\u001b[0;34m(num_schools)\u001b[0m\n\u001b[1;32m      6\u001b[0m \u001b[0;32mdef\u001b[0m \u001b[0mgenerate_school_names\u001b[0m\u001b[0;34m(\u001b[0m\u001b[0mnum_schools\u001b[0m\u001b[0;34m)\u001b[0m\u001b[0;34m:\u001b[0m\u001b[0;34m\u001b[0m\u001b[0;34m\u001b[0m\u001b[0m\n\u001b[1;32m      7\u001b[0m     \u001b[0mschool_names\u001b[0m \u001b[0;34m=\u001b[0m \u001b[0;34m[\u001b[0m\u001b[0;34m]\u001b[0m\u001b[0;34m\u001b[0m\u001b[0;34m\u001b[0m\u001b[0m\n\u001b[0;32m----> 8\u001b[0;31m     \u001b[0;32mwhile\u001b[0m \u001b[0mlen\u001b[0m\u001b[0;34m(\u001b[0m\u001b[0mschool_names\u001b[0m\u001b[0;34m)\u001b[0m \u001b[0;34m<\u001b[0m \u001b[0mnum_schools\u001b[0m\u001b[0;34m:\u001b[0m\u001b[0;34m\u001b[0m\u001b[0;34m\u001b[0m\u001b[0m\n\u001b[0m\u001b[1;32m      9\u001b[0m         \u001b[0mname\u001b[0m \u001b[0;34m=\u001b[0m \u001b[0;34mf\"{random.choice(['New', 'Bright', 'Global', 'Future', 'Ideal', 'First', 'Modern'])} {random.choice(['Horizon', 'Vision', 'Leaders', 'Thinkers', 'Minds', 'Heights', 'Academy'])} {random.choice(['School', 'College', 'Academy'])}\"\u001b[0m\u001b[0;34m\u001b[0m\u001b[0;34m\u001b[0m\u001b[0m\n\u001b[1;32m     10\u001b[0m         \u001b[0;32mif\u001b[0m \u001b[0mname\u001b[0m \u001b[0;32mnot\u001b[0m \u001b[0;32min\u001b[0m \u001b[0mschool_names\u001b[0m\u001b[0;34m:\u001b[0m\u001b[0;34m\u001b[0m\u001b[0;34m\u001b[0m\u001b[0m\n",
            "\u001b[0;31mKeyboardInterrupt\u001b[0m: "
          ]
        }
      ]
    },
    {
      "cell_type": "code",
      "source": [
        "import random\n",
        "from datetime import datetime, timedelta\n",
        "import pandas as pd\n",
        "\n",
        "# Function to generate a random School ID\n",
        "def generate_school_id():\n",
        "    return 'SCH' + ''.join(random.choice('0123456789') for i in range(4))\n",
        "\n",
        "# List of random school names\n",
        "school_names = [\"Greenfield Academy\", \"International School of Kenya\", \"West Nairobi School\", \n",
        "                \"Taal-Net Group of Schools\", \"The Learning Centre\", \"Maranatha Academy\", \n",
        "                \"Kigali International Community School\", \"Covina Schools\", \"Murtala Mohammed Foundation\", \n",
        "                \"Hopeville Academy\", \"Palm Grove Schools\", \"Grange School\", \"Crescent Nursery and Primary School\", \n",
        "                \"Noble Height College\", \"Brainy Educare Services\", \"The Foreshore School\", \"Sunrise Montessori School\", \n",
        "                \"Avi-Cenna International School\", \"Avicenna International School\", \"Lead British International School\", \n",
        "                \"Braintree Montessori School\", \"Smarthouse Nursery and Primary School\", \"The Vale College\", \n",
        "                \"Grace High School\", \"Lextorah School\", \"Diamond College\", \"Vera International College\", \n",
        "                \"Kings College Lagos\", \"Loyola Jesuit College\", \"Bingham University Staff School\", \n",
        "                \"Kwara State College of Education Demonstration School\", \"Mama Ngina Girls High School\", \n",
        "                \"Kenyatta High School Mwatate\", \"Kabarak High School\", \"St. Mary's School, Nairobi\", \n",
        "                \"Kaduna International School\", \"Swarthmore Education Centre\", \"Nairobi Jaffery Academy\", \n",
        "                \"Brookhouse School\", \"Al-Muntazir Islamic Seminary\", \"Oshwal Academy Nairobi\"]\n",
        "\n",
        "# Function to generate a random date in the specified range\n",
        "def generate_random_date():\n",
        "    start_date = datetime(2019, 11, 1)\n",
        "    end_date = datetime(2023, 3, 31)\n",
        "    time_between_dates = end_date - start_date\n",
        "    days_between_dates = time_between_dates.days\n",
        "    random_number_of_days = random.randrange(days_between_dates)\n",
        "    random_date = start_date + timedelta(days=random_number_of_days)\n",
        "    return random_date.strftime('%m/%d/%Y')\n",
        "\n",
        "# Function to generate a random location\n",
        "def generate_random_location():\n",
        "    locations = ['Lagos', 'Abuja', 'Port Harcourt']\n",
        "    return random.choice(locations)\n",
        "\n",
        "# Generate dataset\n",
        "data = {'School ID': [generate_school_id() for i in range(200)],\n",
        "        'School Name': random.sample(school_names, 200),\n",
        "        'Date Onboarded': [generate_random_date() for i in range(200)],\n",
        "        'Location': [generate_random_location() for i in range(200)]}\n",
        "\n",
        "# Convert data to a pandas DataFrame\n",
        "df = pd.DataFrame(data)\n",
        "\n",
        "# Save DataFrame to Excel file\n",
        "df.to_excel('school_data.xlsx', index=False)\n"
      ],
      "metadata": {
        "colab": {
          "base_uri": "https://localhost:8080/",
          "height": 357
        },
        "id": "zxWxgInTu1YX",
        "outputId": "1f778e5c-16ef-4467-8183-f9b663390aa9"
      },
      "execution_count": null,
      "outputs": [
        {
          "output_type": "error",
          "ename": "ValueError",
          "evalue": "ignored",
          "traceback": [
            "\u001b[0;31m---------------------------------------------------------------------------\u001b[0m",
            "\u001b[0;31mValueError\u001b[0m                                Traceback (most recent call last)",
            "\u001b[0;32m<ipython-input-20-ef9508215b58>\u001b[0m in \u001b[0;36m<cell line: 40>\u001b[0;34m()\u001b[0m\n\u001b[1;32m     39\u001b[0m \u001b[0;31m# Generate dataset\u001b[0m\u001b[0;34m\u001b[0m\u001b[0;34m\u001b[0m\u001b[0m\n\u001b[1;32m     40\u001b[0m data = {'School ID': [generate_school_id() for i in range(200)],\n\u001b[0;32m---> 41\u001b[0;31m         \u001b[0;34m'School Name'\u001b[0m\u001b[0;34m:\u001b[0m \u001b[0mrandom\u001b[0m\u001b[0;34m.\u001b[0m\u001b[0msample\u001b[0m\u001b[0;34m(\u001b[0m\u001b[0mschool_names\u001b[0m\u001b[0;34m,\u001b[0m \u001b[0;36m200\u001b[0m\u001b[0;34m)\u001b[0m\u001b[0;34m,\u001b[0m\u001b[0;34m\u001b[0m\u001b[0;34m\u001b[0m\u001b[0m\n\u001b[0m\u001b[1;32m     42\u001b[0m         \u001b[0;34m'Date Onboarded'\u001b[0m\u001b[0;34m:\u001b[0m \u001b[0;34m[\u001b[0m\u001b[0mgenerate_random_date\u001b[0m\u001b[0;34m(\u001b[0m\u001b[0;34m)\u001b[0m \u001b[0;32mfor\u001b[0m \u001b[0mi\u001b[0m \u001b[0;32min\u001b[0m \u001b[0mrange\u001b[0m\u001b[0;34m(\u001b[0m\u001b[0;36m200\u001b[0m\u001b[0;34m)\u001b[0m\u001b[0;34m]\u001b[0m\u001b[0;34m,\u001b[0m\u001b[0;34m\u001b[0m\u001b[0;34m\u001b[0m\u001b[0m\n\u001b[1;32m     43\u001b[0m         'Location': [generate_random_location() for i in range(200)]}\n",
            "\u001b[0;32m/usr/lib/python3.9/random.py\u001b[0m in \u001b[0;36msample\u001b[0;34m(self, population, k, counts)\u001b[0m\n\u001b[1;32m    447\u001b[0m         \u001b[0mrandbelow\u001b[0m \u001b[0;34m=\u001b[0m \u001b[0mself\u001b[0m\u001b[0;34m.\u001b[0m\u001b[0m_randbelow\u001b[0m\u001b[0;34m\u001b[0m\u001b[0;34m\u001b[0m\u001b[0m\n\u001b[1;32m    448\u001b[0m         \u001b[0;32mif\u001b[0m \u001b[0;32mnot\u001b[0m \u001b[0;36m0\u001b[0m \u001b[0;34m<=\u001b[0m \u001b[0mk\u001b[0m \u001b[0;34m<=\u001b[0m \u001b[0mn\u001b[0m\u001b[0;34m:\u001b[0m\u001b[0;34m\u001b[0m\u001b[0;34m\u001b[0m\u001b[0m\n\u001b[0;32m--> 449\u001b[0;31m             \u001b[0;32mraise\u001b[0m \u001b[0mValueError\u001b[0m\u001b[0;34m(\u001b[0m\u001b[0;34m\"Sample larger than population or is negative\"\u001b[0m\u001b[0;34m)\u001b[0m\u001b[0;34m\u001b[0m\u001b[0;34m\u001b[0m\u001b[0m\n\u001b[0m\u001b[1;32m    450\u001b[0m         \u001b[0mresult\u001b[0m \u001b[0;34m=\u001b[0m \u001b[0;34m[\u001b[0m\u001b[0;32mNone\u001b[0m\u001b[0;34m]\u001b[0m \u001b[0;34m*\u001b[0m \u001b[0mk\u001b[0m\u001b[0;34m\u001b[0m\u001b[0;34m\u001b[0m\u001b[0m\n\u001b[1;32m    451\u001b[0m         \u001b[0msetsize\u001b[0m \u001b[0;34m=\u001b[0m \u001b[0;36m21\u001b[0m        \u001b[0;31m# size of a small set minus size of an empty list\u001b[0m\u001b[0;34m\u001b[0m\u001b[0;34m\u001b[0m\u001b[0m\n",
            "\u001b[0;31mValueError\u001b[0m: Sample larger than population or is negative"
          ]
        }
      ]
    },
    {
      "cell_type": "code",
      "source": [
        "import random\n",
        "import datetime\n",
        "import pandas as pd\n",
        "\n",
        "# Generate 200 unique school names in Africa\n",
        "school_names = []\n",
        "while len(school_names) < 200:\n",
        "    name = f\"{random.choice(['Olu', 'New', 'Great', 'Divine', 'King', 'Queen'])} \" \\\n",
        "           f\"{random.choice(['Secondary', 'High', 'Junior', 'Primary', 'College'])} \" \\\n",
        "           f\"{random.choice(['School', 'Academy', 'Institution'])}\"\n",
        "    if name not in school_names:\n",
        "        school_names.append(name)\n",
        "\n",
        "# Generate dataset\n",
        "data = {\n",
        "    \"School ID\": [f\"SCH{random.randint(1000, 9999)}\" for i in range(200)],\n",
        "    \"School name\": school_names,\n",
        "    \"Date Onboarded\": [datetime.date(2019, 11, 1) + datetime.timedelta(days=random.randint(0, 1200)) \n",
        "                       for i in range(200)],\n",
        "    \"Location\": [random.choice(['Lagos', 'Abuja', 'Port Harcourt']) for i in range(200)]\n",
        "}\n",
        "\n",
        "# Convert dataset to pandas DataFrame\n",
        "df = pd.DataFrame(data)\n",
        "\n",
        "# Export DataFrame to Excel\n",
        "df.to_excel(\"school_dataset.xlsx\", index=False)\n"
      ],
      "metadata": {
        "colab": {
          "base_uri": "https://localhost:8080/",
          "height": 235
        },
        "id": "6JuHBRzGwKAA",
        "outputId": "9bb0cecf-78c1-47a6-8a92-e461a042ff36"
      },
      "execution_count": null,
      "outputs": [
        {
          "output_type": "error",
          "ename": "KeyboardInterrupt",
          "evalue": "ignored",
          "traceback": [
            "\u001b[0;31m---------------------------------------------------------------------------\u001b[0m",
            "\u001b[0;31mKeyboardInterrupt\u001b[0m                         Traceback (most recent call last)",
            "\u001b[0;32m<ipython-input-21-68397f3dcc17>\u001b[0m in \u001b[0;36m<cell line: 7>\u001b[0;34m()\u001b[0m\n\u001b[1;32m      5\u001b[0m \u001b[0;31m# Generate 200 unique school names in Africa\u001b[0m\u001b[0;34m\u001b[0m\u001b[0;34m\u001b[0m\u001b[0m\n\u001b[1;32m      6\u001b[0m \u001b[0mschool_names\u001b[0m \u001b[0;34m=\u001b[0m \u001b[0;34m[\u001b[0m\u001b[0;34m]\u001b[0m\u001b[0;34m\u001b[0m\u001b[0;34m\u001b[0m\u001b[0m\n\u001b[0;32m----> 7\u001b[0;31m \u001b[0;32mwhile\u001b[0m \u001b[0mlen\u001b[0m\u001b[0;34m(\u001b[0m\u001b[0mschool_names\u001b[0m\u001b[0;34m)\u001b[0m \u001b[0;34m<\u001b[0m \u001b[0;36m200\u001b[0m\u001b[0;34m:\u001b[0m\u001b[0;34m\u001b[0m\u001b[0;34m\u001b[0m\u001b[0m\n\u001b[0m\u001b[1;32m      8\u001b[0m     \u001b[0mname\u001b[0m \u001b[0;34m=\u001b[0m \u001b[0;34mf\"{random.choice(['Olu', 'New', 'Great', 'Divine', 'King', 'Queen'])} \"\u001b[0m\u001b[0;31m \u001b[0m\u001b[0;31m\\\u001b[0m\u001b[0;34m\u001b[0m\u001b[0;34m\u001b[0m\u001b[0m\n\u001b[1;32m      9\u001b[0m            \u001b[0;34mf\"{random.choice(['Secondary', 'High', 'Junior', 'Primary', 'College'])} \"\u001b[0m\u001b[0;31m \u001b[0m\u001b[0;31m\\\u001b[0m\u001b[0;34m\u001b[0m\u001b[0;34m\u001b[0m\u001b[0m\n",
            "\u001b[0;31mKeyboardInterrupt\u001b[0m: "
          ]
        }
      ]
    },
    {
      "cell_type": "code",
      "source": [
        "import random\n",
        "import pandas as pd\n",
        "from datetime import datetime, timedelta\n",
        "\n",
        "# Function to generate a random school name\n",
        "def get_school_name():\n",
        "    prefixes = ['St.', 'Noble', 'Hope', 'Grace', 'Faith', 'Great', 'Divine', 'Holy', 'Divine', 'Global']\n",
        "    suffixes = ['Academy', 'College', 'High School', 'Secondary School', 'Model School', 'Grammar School']\n",
        "    return f\"{random.choice(prefixes)} {random.choice(suffixes)}\"\n",
        "\n",
        "# Function to generate a random date\n",
        "def get_random_date(start_date, end_date):\n",
        "    delta = end_date - start_date\n",
        "    random_days = random.randrange(delta.days)\n",
        "    return start_date + timedelta(days=random_days)\n",
        "\n",
        "# Generate 200 distinct school IDs\n",
        "school_ids = ['SCH' + str(i).zfill(4) for i in range(1, 201)]\n",
        "\n",
        "# Generate 200 distinct school names\n",
        "school_names = []\n",
        "while len(school_names) < 200:\n",
        "    name = get_school_name()\n",
        "    if name not in school_names:\n",
        "        school_names.append(name)\n",
        "\n",
        "# Generate 200 random dates between November 2019 and March 2023\n",
        "start_date = datetime(2019, 11, 1)\n",
        "end_date = datetime(2023, 3, 31)\n",
        "dates = [get_random_date(start_date, end_date) for _ in range(200)]\n",
        "\n",
        "# Generate 200 random locations across Lagos, Abuja, and Port Harcourt\n",
        "locations = ['Lagos', 'Abuja', 'Port Harcourt']\n",
        "location_list = [random.choice(locations) for _ in range(200)]\n",
        "\n",
        "# Create a pandas dataframe with the generated data\n",
        "df = pd.DataFrame({'School ID': school_ids, 'School name': school_names, 'Date Onboarded': dates, 'Location': location_list})\n",
        "\n",
        "# Export dataframe to Excel file\n",
        "df.to_excel('schools_data.xlsx', index=False)\n"
      ],
      "metadata": {
        "id": "lRC_eFtAzpS5"
      },
      "execution_count": null,
      "outputs": []
    }
  ],
  "metadata": {
    "colab": {
      "provenance": []
    },
    "kernelspec": {
      "display_name": "Python 3",
      "name": "python3"
    }
  },
  "nbformat": 4,
  "nbformat_minor": 0
}